{
 "cells": [
  {
   "cell_type": "markdown",
   "metadata": {},
   "source": [
    "<img src=\"./2017_EarthDay_03cabd5b-d28e-4ebd-be59-37f476e22dd7-prv.jpg\">"
   ]
  },
  {
   "cell_type": "markdown",
   "metadata": {},
   "source": [
    "<img src=\"./landsat_spectra.jpg\">"
   ]
  },
  {
   "cell_type": "markdown",
   "metadata": {},
   "source": [
    "<img src=./band_combinations.png>"
   ]
  },
  {
   "cell_type": "markdown",
   "metadata": {},
   "source": [
    "<img src=./250px-Butte_County_California_Incorporated_and_Unincorporated_areas_Paradise_Highlighted.svg.png>"
   ]
  },
  {
   "cell_type": "code",
   "execution_count": 1,
   "metadata": {},
   "outputs": [],
   "source": [
    "import rasterio\n",
    "from PIL import Image\n",
    "import matplotlib.pyplot as plt"
   ]
  },
  {
   "cell_type": "markdown",
   "metadata": {},
   "source": [
    "# BEFORE"
   ]
  },
  {
   "cell_type": "code",
   "execution_count": 2,
   "metadata": {},
   "outputs": [],
   "source": [
    "landsat_image_before = dict.fromkeys(['Ultra-Blue','Blue','Green','Red','NIR','SWIR1','SWIR2'])\n",
    "for i,band in enumerate(landsat_image_before):\n",
    "    with rasterio.open('./LC08_L1TP_044032_20181007_20181029_01_T1/LC08_L1TP_044032_20181007_20181029_01_T1_B'+str(i+1)+'.TIF', 'r') as ds:\n",
    "        band_vals = ds.read()\n",
    "        band_vals =band_vals[0]/(2**16)\n",
    "        landsat_image_before[band] = band_vals # read all raster values"
   ]
  },
  {
   "cell_type": "markdown",
   "metadata": {},
   "source": [
    "# AFTER"
   ]
  },
  {
   "cell_type": "code",
   "execution_count": 3,
   "metadata": {},
   "outputs": [],
   "source": [
    "landsat_image = dict.fromkeys(['Ultra-Blue','Blue','Green','Red','NIR','SWIR1','SWIR2'])\n",
    "for i,band in enumerate(landsat_image):\n",
    "    with rasterio.open('./LC08_L1TP_044032_20181210_20181226_01_T1/LC08_L1TP_044032_20181210_20181226_01_T1_B'+str(i+1)+'.TIF', 'r') as ds:\n",
    "        band_vals = ds.read()\n",
    "        band_vals =band_vals[0]/(2**16)\n",
    "        landsat_image[band] = band_vals # read all raster values\n"
   ]
  },
  {
   "cell_type": "markdown",
   "metadata": {},
   "source": [
    "# DURING"
   ]
  },
  {
   "cell_type": "code",
   "execution_count": 4,
   "metadata": {},
   "outputs": [],
   "source": [
    "landsat_image_during_dont_open_this = dict.fromkeys(['Ultra-Blue','Blue','Green','Red','NIR','SWIR1','SWIR2'])\n",
    "for i,band in enumerate(landsat_image_during_dont_open_this):\n",
    "    with rasterio.open('./LC08_L1TP_044032_20181108_20181116_01_T1/LC08_L1TP_044032_20181108_20181116_01_T1_B'+str(i+1)+'.TIF', 'r') as ds:\n",
    "        band_vals = ds.read()\n",
    "        band_vals =band_vals[0]/(2**16)\n",
    "        landsat_image_during_dont_open_this[band] = band_vals # read all raster values"
   ]
  },
  {
   "cell_type": "markdown",
   "metadata": {},
   "source": [
    "# RGB image"
   ]
  },
  {
   "cell_type": "code",
   "execution_count": 5,
   "metadata": {},
   "outputs": [
    {
     "data": {
      "text/plain": [
       "dict_keys(['Ultra-Blue', 'Blue', 'Green', 'Red', 'NIR', 'SWIR1', 'SWIR2'])"
      ]
     },
     "execution_count": 5,
     "metadata": {},
     "output_type": "execute_result"
    }
   ],
   "source": [
    "landsat_image.keys()"
   ]
  },
  {
   "cell_type": "code",
   "execution_count": null,
   "metadata": {},
   "outputs": [],
   "source": []
  }
 ],
 "metadata": {
  "kernelspec": {
   "display_name": "Python 3",
   "language": "python",
   "name": "python3"
  },
  "language_info": {
   "codemirror_mode": {
    "name": "ipython",
    "version": 3
   },
   "file_extension": ".py",
   "mimetype": "text/x-python",
   "name": "python",
   "nbconvert_exporter": "python",
   "pygments_lexer": "ipython3",
   "version": "3.6.5"
  },
  "varInspector": {
   "cols": {
    "lenName": 16,
    "lenType": 16,
    "lenVar": 40
   },
   "kernels_config": {
    "python": {
     "delete_cmd_postfix": "",
     "delete_cmd_prefix": "del ",
     "library": "var_list.py",
     "varRefreshCmd": "print(var_dic_list())"
    },
    "r": {
     "delete_cmd_postfix": ") ",
     "delete_cmd_prefix": "rm(",
     "library": "var_list.r",
     "varRefreshCmd": "cat(var_dic_list()) "
    }
   },
   "types_to_exclude": [
    "module",
    "function",
    "builtin_function_or_method",
    "instance",
    "_Feature"
   ],
   "window_display": false
  }
 },
 "nbformat": 4,
 "nbformat_minor": 2
}
